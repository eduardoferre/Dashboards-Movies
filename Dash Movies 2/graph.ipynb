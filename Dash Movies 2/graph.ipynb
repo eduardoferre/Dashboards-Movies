{
 "cells": [
  {
   "cell_type": "code",
   "execution_count": 1,
   "metadata": {},
   "outputs": [],
   "source": [
    "import pandas as pd\n",
    "import plotly.express as px"
   ]
  },
  {
   "cell_type": "code",
   "execution_count": 2,
   "metadata": {},
   "outputs": [],
   "source": [
    "from dash import Dash, dcc, html, Input, Output\n",
    "import plotly.express as px"
   ]
  },
  {
   "cell_type": "code",
   "execution_count": 3,
   "metadata": {},
   "outputs": [],
   "source": [
    "from dash import Dash\n"
   ]
  },
  {
   "cell_type": "code",
   "execution_count": 4,
   "metadata": {},
   "outputs": [
    {
     "data": {
      "text/html": [
       "<div>\n",
       "<style scoped>\n",
       "    .dataframe tbody tr th:only-of-type {\n",
       "        vertical-align: middle;\n",
       "    }\n",
       "\n",
       "    .dataframe tbody tr th {\n",
       "        vertical-align: top;\n",
       "    }\n",
       "\n",
       "    .dataframe thead th {\n",
       "        text-align: right;\n",
       "    }\n",
       "</style>\n",
       "<table border=\"1\" class=\"dataframe\">\n",
       "  <thead>\n",
       "    <tr style=\"text-align: right;\">\n",
       "      <th></th>\n",
       "      <th>movie_title</th>\n",
       "      <th>mcu_phase</th>\n",
       "      <th>release_date</th>\n",
       "      <th>tomato_meter</th>\n",
       "      <th>audience_score</th>\n",
       "      <th>movie_duration</th>\n",
       "      <th>production_budget</th>\n",
       "      <th>opening_weekend</th>\n",
       "      <th>domestic_box_office</th>\n",
       "      <th>worldwide_box_office</th>\n",
       "    </tr>\n",
       "  </thead>\n",
       "  <tbody>\n",
       "    <tr>\n",
       "      <th>0</th>\n",
       "      <td>Iron Man</td>\n",
       "      <td>1</td>\n",
       "      <td>5/2/2008</td>\n",
       "      <td>94</td>\n",
       "      <td>91</td>\n",
       "      <td>126</td>\n",
       "      <td>186,000,000</td>\n",
       "      <td>102,118,668</td>\n",
       "      <td>318,604,126</td>\n",
       "      <td>585,171,547</td>\n",
       "    </tr>\n",
       "    <tr>\n",
       "      <th>1</th>\n",
       "      <td>The Incredible Hulk</td>\n",
       "      <td>1</td>\n",
       "      <td>6/13/2008</td>\n",
       "      <td>67</td>\n",
       "      <td>70</td>\n",
       "      <td>112</td>\n",
       "      <td>137,500,000</td>\n",
       "      <td>55,414,050</td>\n",
       "      <td>134,806,913</td>\n",
       "      <td>265,573,859</td>\n",
       "    </tr>\n",
       "    <tr>\n",
       "      <th>2</th>\n",
       "      <td>Iron Man 2</td>\n",
       "      <td>1</td>\n",
       "      <td>5/7/2010</td>\n",
       "      <td>72</td>\n",
       "      <td>71</td>\n",
       "      <td>124</td>\n",
       "      <td>170,000,000</td>\n",
       "      <td>128,122,480</td>\n",
       "      <td>312,433,331</td>\n",
       "      <td>621,156,389</td>\n",
       "    </tr>\n",
       "    <tr>\n",
       "      <th>3</th>\n",
       "      <td>Thor</td>\n",
       "      <td>1</td>\n",
       "      <td>5/6/2011</td>\n",
       "      <td>77</td>\n",
       "      <td>76</td>\n",
       "      <td>113</td>\n",
       "      <td>150,000,000</td>\n",
       "      <td>65,723,338</td>\n",
       "      <td>181,030,624</td>\n",
       "      <td>449,326,618</td>\n",
       "    </tr>\n",
       "    <tr>\n",
       "      <th>4</th>\n",
       "      <td>Captain America: The First Avenger</td>\n",
       "      <td>1</td>\n",
       "      <td>7/22/2011</td>\n",
       "      <td>79</td>\n",
       "      <td>75</td>\n",
       "      <td>124</td>\n",
       "      <td>140,000,000</td>\n",
       "      <td>65,058,524</td>\n",
       "      <td>176,654,505</td>\n",
       "      <td>370,569,776</td>\n",
       "    </tr>\n",
       "    <tr>\n",
       "      <th>5</th>\n",
       "      <td>The Avengers</td>\n",
       "      <td>1</td>\n",
       "      <td>5/4/2012</td>\n",
       "      <td>91</td>\n",
       "      <td>91</td>\n",
       "      <td>143</td>\n",
       "      <td>225,000,000</td>\n",
       "      <td>207,438,708</td>\n",
       "      <td>623,357,910</td>\n",
       "      <td>1,515,100,211</td>\n",
       "    </tr>\n",
       "    <tr>\n",
       "      <th>6</th>\n",
       "      <td>Iron Man 3</td>\n",
       "      <td>2</td>\n",
       "      <td>5/3/2013</td>\n",
       "      <td>79</td>\n",
       "      <td>78</td>\n",
       "      <td>130</td>\n",
       "      <td>200,000,000</td>\n",
       "      <td>174,144,585</td>\n",
       "      <td>408,992,272</td>\n",
       "      <td>1,215,392,272</td>\n",
       "    </tr>\n",
       "    <tr>\n",
       "      <th>7</th>\n",
       "      <td>Thor: The Dark World</td>\n",
       "      <td>2</td>\n",
       "      <td>11/8/2013</td>\n",
       "      <td>66</td>\n",
       "      <td>75</td>\n",
       "      <td>111</td>\n",
       "      <td>150,000,000</td>\n",
       "      <td>85,737,841</td>\n",
       "      <td>206,362,140</td>\n",
       "      <td>644,602,516</td>\n",
       "    </tr>\n",
       "    <tr>\n",
       "      <th>8</th>\n",
       "      <td>Captain America: The Winter Soldier</td>\n",
       "      <td>2</td>\n",
       "      <td>4/4/2014</td>\n",
       "      <td>90</td>\n",
       "      <td>92</td>\n",
       "      <td>135</td>\n",
       "      <td>170,000,000</td>\n",
       "      <td>95,023,721</td>\n",
       "      <td>259,746,958</td>\n",
       "      <td>714,401,889</td>\n",
       "    </tr>\n",
       "    <tr>\n",
       "      <th>9</th>\n",
       "      <td>Guardians of the Galaxy</td>\n",
       "      <td>2</td>\n",
       "      <td>8/1/2014</td>\n",
       "      <td>92</td>\n",
       "      <td>92</td>\n",
       "      <td>121</td>\n",
       "      <td>170,000,000</td>\n",
       "      <td>94,320,883</td>\n",
       "      <td>333,714,112</td>\n",
       "      <td>770,882,395</td>\n",
       "    </tr>\n",
       "    <tr>\n",
       "      <th>10</th>\n",
       "      <td>Avengers: Age of Ultron</td>\n",
       "      <td>2</td>\n",
       "      <td>5/1/2015</td>\n",
       "      <td>76</td>\n",
       "      <td>83</td>\n",
       "      <td>141</td>\n",
       "      <td>365,000,000</td>\n",
       "      <td>191,271,109</td>\n",
       "      <td>459,005,868</td>\n",
       "      <td>1,395,316,979</td>\n",
       "    </tr>\n",
       "    <tr>\n",
       "      <th>11</th>\n",
       "      <td>Ant-Man</td>\n",
       "      <td>2</td>\n",
       "      <td>7/17/2015</td>\n",
       "      <td>83</td>\n",
       "      <td>85</td>\n",
       "      <td>117</td>\n",
       "      <td>130,000,000</td>\n",
       "      <td>57,225,526</td>\n",
       "      <td>180,202,163</td>\n",
       "      <td>518,858,449</td>\n",
       "    </tr>\n",
       "    <tr>\n",
       "      <th>12</th>\n",
       "      <td>Captain America: Civil War</td>\n",
       "      <td>3</td>\n",
       "      <td>5/6/2016</td>\n",
       "      <td>90</td>\n",
       "      <td>89</td>\n",
       "      <td>146</td>\n",
       "      <td>250,000,000</td>\n",
       "      <td>179,139,142</td>\n",
       "      <td>408,084,349</td>\n",
       "      <td>1,151,918,521</td>\n",
       "    </tr>\n",
       "    <tr>\n",
       "      <th>13</th>\n",
       "      <td>Doctor Strange</td>\n",
       "      <td>3</td>\n",
       "      <td>11/4/2016</td>\n",
       "      <td>89</td>\n",
       "      <td>86</td>\n",
       "      <td>115</td>\n",
       "      <td>165,000,000</td>\n",
       "      <td>85,058,311</td>\n",
       "      <td>232,641,920</td>\n",
       "      <td>676,354,481</td>\n",
       "    </tr>\n",
       "    <tr>\n",
       "      <th>14</th>\n",
       "      <td>Guardians of the Galaxy Vol. 2</td>\n",
       "      <td>3</td>\n",
       "      <td>5/5/2017</td>\n",
       "      <td>85</td>\n",
       "      <td>87</td>\n",
       "      <td>135</td>\n",
       "      <td>200,000,000</td>\n",
       "      <td>146,510,104</td>\n",
       "      <td>389,813,101</td>\n",
       "      <td>869,113,101</td>\n",
       "    </tr>\n",
       "    <tr>\n",
       "      <th>15</th>\n",
       "      <td>Spider-Man: Homecoming</td>\n",
       "      <td>3</td>\n",
       "      <td>7/7/2017</td>\n",
       "      <td>92</td>\n",
       "      <td>87</td>\n",
       "      <td>133</td>\n",
       "      <td>175,000,000</td>\n",
       "      <td>117,027,503</td>\n",
       "      <td>334,201,140</td>\n",
       "      <td>878,346,440</td>\n",
       "    </tr>\n",
       "    <tr>\n",
       "      <th>16</th>\n",
       "      <td>Thor: Ragnarok</td>\n",
       "      <td>3</td>\n",
       "      <td>11/3/2017</td>\n",
       "      <td>93</td>\n",
       "      <td>87</td>\n",
       "      <td>130</td>\n",
       "      <td>180,000,000</td>\n",
       "      <td>122,744,989</td>\n",
       "      <td>315,058,289</td>\n",
       "      <td>850,482,778</td>\n",
       "    </tr>\n",
       "    <tr>\n",
       "      <th>17</th>\n",
       "      <td>Black Panther</td>\n",
       "      <td>3</td>\n",
       "      <td>2/16/2018</td>\n",
       "      <td>96</td>\n",
       "      <td>79</td>\n",
       "      <td>134</td>\n",
       "      <td>200,000,000</td>\n",
       "      <td>202,003,951</td>\n",
       "      <td>700,059,566</td>\n",
       "      <td>1,336,494,321</td>\n",
       "    </tr>\n",
       "    <tr>\n",
       "      <th>18</th>\n",
       "      <td>Avengers: Infinity War</td>\n",
       "      <td>3</td>\n",
       "      <td>4/27/2018</td>\n",
       "      <td>85</td>\n",
       "      <td>91</td>\n",
       "      <td>149</td>\n",
       "      <td>300,000,000</td>\n",
       "      <td>257,698,183</td>\n",
       "      <td>678,815,482</td>\n",
       "      <td>2,048,359,754</td>\n",
       "    </tr>\n",
       "    <tr>\n",
       "      <th>19</th>\n",
       "      <td>Ant-Man and the Wasp</td>\n",
       "      <td>3</td>\n",
       "      <td>7/6/2018</td>\n",
       "      <td>87</td>\n",
       "      <td>81</td>\n",
       "      <td>118</td>\n",
       "      <td>130,000,000</td>\n",
       "      <td>75,812,205</td>\n",
       "      <td>216,648,740</td>\n",
       "      <td>623,144,660</td>\n",
       "    </tr>\n",
       "    <tr>\n",
       "      <th>20</th>\n",
       "      <td>Captain Marvel</td>\n",
       "      <td>3</td>\n",
       "      <td>3/8/2019</td>\n",
       "      <td>79</td>\n",
       "      <td>45</td>\n",
       "      <td>124</td>\n",
       "      <td>175,000,000</td>\n",
       "      <td>153,433,423</td>\n",
       "      <td>426,829,839</td>\n",
       "      <td>1,129,727,388</td>\n",
       "    </tr>\n",
       "    <tr>\n",
       "      <th>21</th>\n",
       "      <td>Avengers: End Game</td>\n",
       "      <td>3</td>\n",
       "      <td>4/26/2019</td>\n",
       "      <td>94</td>\n",
       "      <td>90</td>\n",
       "      <td>181</td>\n",
       "      <td>400,000,000</td>\n",
       "      <td>357,115,007</td>\n",
       "      <td>858,373,000</td>\n",
       "      <td>2,797,800,564</td>\n",
       "    </tr>\n",
       "    <tr>\n",
       "      <th>22</th>\n",
       "      <td>Spider-Man: Far From Home</td>\n",
       "      <td>3</td>\n",
       "      <td>7/2/2019</td>\n",
       "      <td>90</td>\n",
       "      <td>95</td>\n",
       "      <td>129</td>\n",
       "      <td>160,000,000</td>\n",
       "      <td>92,579,212</td>\n",
       "      <td>390,532,085</td>\n",
       "      <td>1,132,532,832</td>\n",
       "    </tr>\n",
       "    <tr>\n",
       "      <th>23</th>\n",
       "      <td>Black Widow</td>\n",
       "      <td>4</td>\n",
       "      <td>7/9/2021</td>\n",
       "      <td>79</td>\n",
       "      <td>91</td>\n",
       "      <td>133</td>\n",
       "      <td>200,000,000</td>\n",
       "      <td>80,366,312</td>\n",
       "      <td>183,651,655</td>\n",
       "      <td>379,751,655</td>\n",
       "    </tr>\n",
       "    <tr>\n",
       "      <th>24</th>\n",
       "      <td>Shang-Chi and the Legend of the Ten Rings</td>\n",
       "      <td>4</td>\n",
       "      <td>9/3/2021</td>\n",
       "      <td>91</td>\n",
       "      <td>98</td>\n",
       "      <td>133</td>\n",
       "      <td>150,000,000</td>\n",
       "      <td>75,388,688</td>\n",
       "      <td>224,543,292</td>\n",
       "      <td>432,243,292</td>\n",
       "    </tr>\n",
       "    <tr>\n",
       "      <th>25</th>\n",
       "      <td>Eternals</td>\n",
       "      <td>4</td>\n",
       "      <td>11/5/2021</td>\n",
       "      <td>47</td>\n",
       "      <td>78</td>\n",
       "      <td>157</td>\n",
       "      <td>200,000,000</td>\n",
       "      <td>71,297,219</td>\n",
       "      <td>164,870,264</td>\n",
       "      <td>402,064,929</td>\n",
       "    </tr>\n",
       "    <tr>\n",
       "      <th>26</th>\n",
       "      <td>Spider-Man: No Way Home</td>\n",
       "      <td>4</td>\n",
       "      <td>12/17/2021</td>\n",
       "      <td>93</td>\n",
       "      <td>98</td>\n",
       "      <td>148</td>\n",
       "      <td>200,000,000</td>\n",
       "      <td>260,138,569</td>\n",
       "      <td>803,975,784</td>\n",
       "      <td>1,891,108,035</td>\n",
       "    </tr>\n",
       "  </tbody>\n",
       "</table>\n",
       "</div>"
      ],
      "text/plain": [
       "                                  movie_title  mcu_phase release_date  \\\n",
       "0                                    Iron Man          1     5/2/2008   \n",
       "1                         The Incredible Hulk          1    6/13/2008   \n",
       "2                                  Iron Man 2          1     5/7/2010   \n",
       "3                                        Thor          1     5/6/2011   \n",
       "4          Captain America: The First Avenger          1    7/22/2011   \n",
       "5                                The Avengers          1     5/4/2012   \n",
       "6                                  Iron Man 3          2     5/3/2013   \n",
       "7                        Thor: The Dark World          2    11/8/2013   \n",
       "8         Captain America: The Winter Soldier          2     4/4/2014   \n",
       "9                     Guardians of the Galaxy          2     8/1/2014   \n",
       "10                    Avengers: Age of Ultron          2     5/1/2015   \n",
       "11                                    Ant-Man          2    7/17/2015   \n",
       "12                 Captain America: Civil War          3     5/6/2016   \n",
       "13                             Doctor Strange          3    11/4/2016   \n",
       "14             Guardians of the Galaxy Vol. 2          3     5/5/2017   \n",
       "15                     Spider-Man: Homecoming          3     7/7/2017   \n",
       "16                             Thor: Ragnarok          3    11/3/2017   \n",
       "17                              Black Panther          3    2/16/2018   \n",
       "18                     Avengers: Infinity War          3    4/27/2018   \n",
       "19                       Ant-Man and the Wasp          3     7/6/2018   \n",
       "20                             Captain Marvel          3     3/8/2019   \n",
       "21                         Avengers: End Game          3    4/26/2019   \n",
       "22                  Spider-Man: Far From Home          3     7/2/2019   \n",
       "23                                Black Widow          4     7/9/2021   \n",
       "24  Shang-Chi and the Legend of the Ten Rings          4     9/3/2021   \n",
       "25                                   Eternals          4    11/5/2021   \n",
       "26                    Spider-Man: No Way Home          4   12/17/2021   \n",
       "\n",
       "    tomato_meter  audience_score  movie_duration production_budget  \\\n",
       "0             94              91             126       186,000,000   \n",
       "1             67              70             112       137,500,000   \n",
       "2             72              71             124       170,000,000   \n",
       "3             77              76             113       150,000,000   \n",
       "4             79              75             124       140,000,000   \n",
       "5             91              91             143       225,000,000   \n",
       "6             79              78             130       200,000,000   \n",
       "7             66              75             111       150,000,000   \n",
       "8             90              92             135       170,000,000   \n",
       "9             92              92             121       170,000,000   \n",
       "10            76              83             141       365,000,000   \n",
       "11            83              85             117       130,000,000   \n",
       "12            90              89             146       250,000,000   \n",
       "13            89              86             115       165,000,000   \n",
       "14            85              87             135       200,000,000   \n",
       "15            92              87             133       175,000,000   \n",
       "16            93              87             130       180,000,000   \n",
       "17            96              79             134       200,000,000   \n",
       "18            85              91             149       300,000,000   \n",
       "19            87              81             118       130,000,000   \n",
       "20            79              45             124       175,000,000   \n",
       "21            94              90             181       400,000,000   \n",
       "22            90              95             129       160,000,000   \n",
       "23            79              91             133       200,000,000   \n",
       "24            91              98             133       150,000,000   \n",
       "25            47              78             157       200,000,000   \n",
       "26            93              98             148       200,000,000   \n",
       "\n",
       "   opening_weekend domestic_box_office worldwide_box_office  \n",
       "0      102,118,668         318,604,126          585,171,547  \n",
       "1       55,414,050         134,806,913          265,573,859  \n",
       "2      128,122,480         312,433,331          621,156,389  \n",
       "3       65,723,338         181,030,624          449,326,618  \n",
       "4       65,058,524         176,654,505          370,569,776  \n",
       "5      207,438,708         623,357,910        1,515,100,211  \n",
       "6      174,144,585         408,992,272        1,215,392,272  \n",
       "7       85,737,841         206,362,140          644,602,516  \n",
       "8       95,023,721         259,746,958          714,401,889  \n",
       "9       94,320,883         333,714,112          770,882,395  \n",
       "10     191,271,109         459,005,868        1,395,316,979  \n",
       "11      57,225,526         180,202,163          518,858,449  \n",
       "12     179,139,142         408,084,349        1,151,918,521  \n",
       "13      85,058,311         232,641,920          676,354,481  \n",
       "14     146,510,104         389,813,101          869,113,101  \n",
       "15     117,027,503         334,201,140          878,346,440  \n",
       "16     122,744,989         315,058,289          850,482,778  \n",
       "17     202,003,951         700,059,566        1,336,494,321  \n",
       "18     257,698,183         678,815,482        2,048,359,754  \n",
       "19      75,812,205         216,648,740          623,144,660  \n",
       "20     153,433,423         426,829,839        1,129,727,388  \n",
       "21     357,115,007         858,373,000        2,797,800,564  \n",
       "22      92,579,212         390,532,085        1,132,532,832  \n",
       "23      80,366,312         183,651,655          379,751,655  \n",
       "24      75,388,688         224,543,292          432,243,292  \n",
       "25      71,297,219         164,870,264          402,064,929  \n",
       "26     260,138,569         803,975,784        1,891,108,035  "
      ]
     },
     "execution_count": 4,
     "metadata": {},
     "output_type": "execute_result"
    }
   ],
   "source": [
    "def get_column(dataframe, name_colu: str):\n",
    "  matriz = dataframe.values.tolist()\n",
    "\n",
    "  posi_column = list(dataframe).index(name_colu)\n",
    "  column = []\n",
    "  for line in matriz:\n",
    "    column.append(line[posi_column])\n",
    "\n",
    "  return column\n",
    "\n",
    "df_marvel = pd.read_csv('mcu_box_office.csv') \n",
    "\n",
    "movies = get_column(df_marvel, 'movie_title')\n",
    "\n",
    "df_marvel"
   ]
  },
  {
   "cell_type": "code",
   "execution_count": 5,
   "metadata": {},
   "outputs": [
    {
     "data": {
      "text/plain": [
       "['585,171,547',\n",
       " '265,573,859',\n",
       " '621,156,389',\n",
       " '449,326,618',\n",
       " '370,569,776',\n",
       " '1,515,100,211',\n",
       " '1,215,392,272',\n",
       " '644,602,516',\n",
       " '714,401,889',\n",
       " '770,882,395',\n",
       " '1,395,316,979',\n",
       " '518,858,449',\n",
       " '1,151,918,521',\n",
       " '676,354,481',\n",
       " '869,113,101',\n",
       " '878,346,440',\n",
       " '850,482,778',\n",
       " '1,336,494,321',\n",
       " '2,048,359,754',\n",
       " '623,144,660',\n",
       " '1,129,727,388',\n",
       " '2,797,800,564',\n",
       " '1,132,532,832',\n",
       " '379,751,655',\n",
       " '432,243,292',\n",
       " '402,064,929',\n",
       " '1,891,108,035']"
      ]
     },
     "execution_count": 5,
     "metadata": {},
     "output_type": "execute_result"
    }
   ],
   "source": [
    "ticket = get_column(df_marvel, 'worldwide_box_office')\n",
    "ticket"
   ]
  },
  {
   "cell_type": "code",
   "execution_count": 6,
   "metadata": {},
   "outputs": [
    {
     "data": {
      "text/plain": [
       "[585171547,\n",
       " 265573859,\n",
       " 621156389,\n",
       " 449326618,\n",
       " 370569776,\n",
       " 1515100211,\n",
       " 1215392272,\n",
       " 644602516,\n",
       " 714401889,\n",
       " 770882395,\n",
       " 1395316979,\n",
       " 518858449,\n",
       " 1151918521,\n",
       " 676354481,\n",
       " 869113101,\n",
       " 878346440,\n",
       " 850482778,\n",
       " 1336494321,\n",
       " 2048359754,\n",
       " 623144660,\n",
       " 1129727388,\n",
       " 2797800564,\n",
       " 1132532832,\n",
       " 379751655,\n",
       " 432243292,\n",
       " 402064929,\n",
       " 1891108035]"
      ]
     },
     "execution_count": 6,
     "metadata": {},
     "output_type": "execute_result"
    }
   ],
   "source": [
    "list_ticket_int = []\n",
    "for num in ticket:\n",
    "    if ',' in num:\n",
    "        num_novo = num.replace(',', '') \n",
    "        list_ticket_int.append(num_novo)\n",
    "\n",
    "for i in range(len(list_ticket_int)):\n",
    "  list_ticket_int[i] = int(list_ticket_int[i])\n",
    "\n",
    "list_ticket_int"
   ]
  },
  {
   "cell_type": "code",
   "execution_count": 7,
   "metadata": {},
   "outputs": [
    {
     "name": "stdout",
     "output_type": "stream",
     "text": [
      "[['Iron Man', 585171547], ['The Incredible Hulk', 265573859], ['Iron Man 2', 621156389], ['Thor', 449326618], ['Captain America: The First Avenger', 370569776], ['The Avengers', 1515100211], ['Iron Man 3', 1215392272], ['Thor: The Dark World', 644602516], ['Captain America: The Winter Soldier', 714401889], ['Guardians of the Galaxy', 770882395], ['Avengers: Age of Ultron', 1395316979], ['Ant-Man', 518858449], ['Captain America: Civil War', 1151918521], ['Doctor Strange', 676354481], ['Guardians of the Galaxy Vol. 2', 869113101], ['Spider-Man: Homecoming', 878346440], ['Thor: Ragnarok', 850482778], ['Black Panther', 1336494321], ['Avengers: Infinity War', 2048359754], ['Ant-Man and the Wasp', 623144660], ['Captain Marvel', 1129727388], ['Avengers: End Game', 2797800564], ['Spider-Man: Far From Home', 1132532832], ['Black Widow', 379751655], ['Shang-Chi and the Legend of the Ten Rings', 432243292], ['Eternals', 402064929], ['Spider-Man: No Way Home', 1891108035]]\n"
     ]
    }
   ],
   "source": [
    "indice = 0\n",
    "list_mov_tic = []\n",
    "for indice, mov in enumerate(movies):\n",
    "  mov_tic = [mov, list_ticket_int[indice]] \n",
    "  list_mov_tic.append(mov_tic)\n",
    "\n",
    "print(list_mov_tic)"
   ]
  },
  {
   "cell_type": "code",
   "execution_count": 10,
   "metadata": {},
   "outputs": [
    {
     "data": {
      "text/plain": [
       "[['The Incredible Hulk', 265573859],\n",
       " ['Captain America: The First Avenger', 370569776],\n",
       " ['Black Widow', 379751655],\n",
       " ['Eternals', 402064929],\n",
       " ['Shang-Chi and the Legend of the Ten Rings', 432243292],\n",
       " ['Thor', 449326618],\n",
       " ['Ant-Man', 518858449],\n",
       " ['Iron Man', 585171547],\n",
       " ['Iron Man 2', 621156389],\n",
       " ['Ant-Man and the Wasp', 623144660],\n",
       " ['Thor: The Dark World', 644602516],\n",
       " ['Doctor Strange', 676354481],\n",
       " ['Captain America: The Winter Soldier', 714401889],\n",
       " ['Guardians of the Galaxy', 770882395],\n",
       " ['Thor: Ragnarok', 850482778],\n",
       " ['Guardians of the Galaxy Vol. 2', 869113101],\n",
       " ['Spider-Man: Homecoming', 878346440],\n",
       " ['Captain Marvel', 1129727388],\n",
       " ['Spider-Man: Far From Home', 1132532832],\n",
       " ['Captain America: Civil War', 1151918521],\n",
       " ['Iron Man 3', 1215392272],\n",
       " ['Black Panther', 1336494321],\n",
       " ['Avengers: Age of Ultron', 1395316979],\n",
       " ['The Avengers', 1515100211],\n",
       " ['Spider-Man: No Way Home', 1891108035],\n",
       " ['Avengers: Infinity War', 2048359754],\n",
       " ['Avengers: End Game', 2797800564]]"
      ]
     },
     "execution_count": 10,
     "metadata": {},
     "output_type": "execute_result"
    }
   ],
   "source": [
    "def organizador(lista): \n",
    "  cont = 0\n",
    "  while cont < len(lista):\n",
    "    for index in range(len(lista)):\n",
    "      if index < len(lista) - 1: \n",
    "        if lista[index][1] > lista[index + 1][1]: \n",
    "          lista[index], lista[index + 1] = lista[index + 1], lista[index] \n",
    "    cont += 1\n",
    "\n",
    "\n",
    "organizador(list_mov_tic) \n",
    "list_mov_tic"
   ]
  },
  {
   "cell_type": "code",
   "execution_count": 13,
   "metadata": {},
   "outputs": [
    {
     "data": {
      "text/plain": [
       "['The Incredible Hulk',\n",
       " 'Captain America: The First Avenger',\n",
       " 'Black Widow',\n",
       " 'Eternals',\n",
       " 'Shang-Chi and the Legend of the Ten Rings',\n",
       " 'Thor',\n",
       " 'Ant-Man',\n",
       " 'Iron Man',\n",
       " 'Iron Man 2',\n",
       " 'Ant-Man and the Wasp',\n",
       " 'Thor: The Dark World',\n",
       " 'Doctor Strange',\n",
       " 'Captain America: The Winter Soldier',\n",
       " 'Guardians of the Galaxy',\n",
       " 'Thor: Ragnarok',\n",
       " 'Guardians of the Galaxy Vol. 2',\n",
       " 'Spider-Man: Homecoming',\n",
       " 'Captain Marvel',\n",
       " 'Spider-Man: Far From Home',\n",
       " 'Captain America: Civil War',\n",
       " 'Iron Man 3',\n",
       " 'Black Panther',\n",
       " 'Avengers: Age of Ultron',\n",
       " 'The Avengers',\n",
       " 'Spider-Man: No Way Home',\n",
       " 'Avengers: Infinity War',\n",
       " 'Avengers: End Game']"
      ]
     },
     "execution_count": 13,
     "metadata": {},
     "output_type": "execute_result"
    }
   ],
   "source": [
    "movies_ord = []\n",
    "ticket_ord = []\n",
    "for movie, tick in list_mov_tic:\n",
    "  movies_ord.append(movie)\n",
    "  ticket_ord.append(tick)\n",
    "\n",
    "movies_ord"
   ]
  },
  {
   "cell_type": "code",
   "execution_count": 15,
   "metadata": {},
   "outputs": [
    {
     "data": {
      "text/plain": [
       "[265573859,\n",
       " 370569776,\n",
       " 379751655,\n",
       " 402064929,\n",
       " 432243292,\n",
       " 449326618,\n",
       " 518858449,\n",
       " 585171547,\n",
       " 621156389,\n",
       " 623144660,\n",
       " 644602516,\n",
       " 676354481,\n",
       " 714401889,\n",
       " 770882395,\n",
       " 850482778,\n",
       " 869113101,\n",
       " 878346440,\n",
       " 1129727388,\n",
       " 1132532832,\n",
       " 1151918521,\n",
       " 1215392272,\n",
       " 1336494321,\n",
       " 1395316979,\n",
       " 1515100211,\n",
       " 1891108035,\n",
       " 2048359754,\n",
       " 2797800564]"
      ]
     },
     "execution_count": 15,
     "metadata": {},
     "output_type": "execute_result"
    }
   ],
   "source": [
    "ticket_ord"
   ]
  },
  {
   "cell_type": "code",
   "execution_count": 20,
   "metadata": {},
   "outputs": [
    {
     "data": {
      "text/plain": [
       "[['The Incredible Hulk', 265573859],\n",
       " ['Captain America: The First Avenger', 370569776],\n",
       " ['Black Widow', 379751655],\n",
       " ['Eternals', 402064929],\n",
       " ['Shang-Chi and the Legend of the Ten Rings', 432243292],\n",
       " ['Thor', 449326618],\n",
       " ['Ant-Man', 518858449],\n",
       " ['Iron Man', 585171547],\n",
       " ['Iron Man 2', 621156389],\n",
       " ['Ant-Man and the Wasp', 623144660],\n",
       " ['Thor: The Dark World', 644602516],\n",
       " ['Doctor Strange', 676354481],\n",
       " ['Captain America: The Winter Soldier', 714401889],\n",
       " ['Guardians of the Galaxy', 770882395],\n",
       " ['Thor: Ragnarok', 850482778],\n",
       " ['Guardians of the Galaxy Vol. 2', 869113101],\n",
       " ['Spider-Man: Homecoming', 878346440],\n",
       " ['Captain Marvel', 1129727388],\n",
       " ['Spider-Man: Far From Home', 1132532832],\n",
       " ['Captain America: Civil War', 1151918521],\n",
       " ['Iron Man 3', 1215392272],\n",
       " ['Black Panther', 1336494321],\n",
       " ['Avengers: Age of Ultron', 1395316979],\n",
       " ['The Avengers', 1515100211],\n",
       " ['Spider-Man: No Way Home', 1891108035],\n",
       " ['Avengers: Infinity War', 2048359754],\n",
       " ['Avengers: End Game', 2797800564]]"
      ]
     },
     "execution_count": 20,
     "metadata": {},
     "output_type": "execute_result"
    }
   ],
   "source": [
    "indice = 0\n",
    "list_to_list = []\n",
    "while indice < len(movies_ord):\n",
    "    fil_bil = [movies_ord[indice], ticket_ord[indice]]\n",
    "    list_to_list.append(fil_bil)\n",
    "    indice += 1\n",
    "\n",
    "list_to_list"
   ]
  },
  {
   "cell_type": "code",
   "execution_count": 22,
   "metadata": {},
   "outputs": [
    {
     "data": {
      "text/plain": [
       "[['The Incredible Hulk', 265573859],\n",
       " ['Captain America: The First Avenger', 370569776],\n",
       " ['Black Widow', 379751655],\n",
       " ['Eternals', 402064929],\n",
       " ['Shang-Chi and the Legend of the Ten Rings', 432243292],\n",
       " ['Thor', 449326618],\n",
       " ['Ant-Man', 518858449],\n",
       " ['Iron Man', 585171547],\n",
       " ['Iron Man 2', 621156389],\n",
       " ['Ant-Man and the Wasp', 623144660],\n",
       " ['Thor: The Dark World', 644602516],\n",
       " ['Doctor Strange', 676354481],\n",
       " ['Captain America: The Winter Soldier', 714401889],\n",
       " ['Guardians of the Galaxy', 770882395],\n",
       " ['Thor: Ragnarok', 850482778],\n",
       " ['Guardians of the Galaxy Vol. 2', 869113101],\n",
       " ['Spider-Man: Homecoming', 878346440],\n",
       " ['Captain Marvel', 1129727388],\n",
       " ['Spider-Man: Far From Home', 1132532832],\n",
       " ['Captain America: Civil War', 1151918521],\n",
       " ['Iron Man 3', 1215392272],\n",
       " ['Black Panther', 1336494321],\n",
       " ['Avengers: Age of Ultron', 1395316979],\n",
       " ['The Avengers', 1515100211],\n",
       " ['Spider-Man: No Way Home', 1891108035],\n",
       " ['Avengers: Infinity War', 2048359754],\n",
       " ['Avengers: End Game', 2797800564]]"
      ]
     },
     "execution_count": 22,
     "metadata": {},
     "output_type": "execute_result"
    }
   ],
   "source": [
    "list_to_list = [[mov, tict] for mov, tict in zip(movies_ord, ticket_ord)]\n",
    "\n",
    "list_to_list"
   ]
  },
  {
   "cell_type": "code",
   "execution_count": 24,
   "metadata": {},
   "outputs": [
    {
     "data": {
      "text/html": [
       "<div>\n",
       "<style scoped>\n",
       "    .dataframe tbody tr th:only-of-type {\n",
       "        vertical-align: middle;\n",
       "    }\n",
       "\n",
       "    .dataframe tbody tr th {\n",
       "        vertical-align: top;\n",
       "    }\n",
       "\n",
       "    .dataframe thead th {\n",
       "        text-align: right;\n",
       "    }\n",
       "</style>\n",
       "<table border=\"1\" class=\"dataframe\">\n",
       "  <thead>\n",
       "    <tr style=\"text-align: right;\">\n",
       "      <th></th>\n",
       "      <th>Filme</th>\n",
       "      <th>Bilheteria</th>\n",
       "    </tr>\n",
       "  </thead>\n",
       "  <tbody>\n",
       "    <tr>\n",
       "      <th>0</th>\n",
       "      <td>The Incredible Hulk</td>\n",
       "      <td>265573859</td>\n",
       "    </tr>\n",
       "    <tr>\n",
       "      <th>1</th>\n",
       "      <td>Captain America: The First Avenger</td>\n",
       "      <td>370569776</td>\n",
       "    </tr>\n",
       "    <tr>\n",
       "      <th>2</th>\n",
       "      <td>Black Widow</td>\n",
       "      <td>379751655</td>\n",
       "    </tr>\n",
       "    <tr>\n",
       "      <th>3</th>\n",
       "      <td>Eternals</td>\n",
       "      <td>402064929</td>\n",
       "    </tr>\n",
       "    <tr>\n",
       "      <th>4</th>\n",
       "      <td>Shang-Chi and the Legend of the Ten Rings</td>\n",
       "      <td>432243292</td>\n",
       "    </tr>\n",
       "    <tr>\n",
       "      <th>5</th>\n",
       "      <td>Thor</td>\n",
       "      <td>449326618</td>\n",
       "    </tr>\n",
       "    <tr>\n",
       "      <th>6</th>\n",
       "      <td>Ant-Man</td>\n",
       "      <td>518858449</td>\n",
       "    </tr>\n",
       "    <tr>\n",
       "      <th>7</th>\n",
       "      <td>Iron Man</td>\n",
       "      <td>585171547</td>\n",
       "    </tr>\n",
       "    <tr>\n",
       "      <th>8</th>\n",
       "      <td>Iron Man 2</td>\n",
       "      <td>621156389</td>\n",
       "    </tr>\n",
       "    <tr>\n",
       "      <th>9</th>\n",
       "      <td>Ant-Man and the Wasp</td>\n",
       "      <td>623144660</td>\n",
       "    </tr>\n",
       "    <tr>\n",
       "      <th>10</th>\n",
       "      <td>Thor: The Dark World</td>\n",
       "      <td>644602516</td>\n",
       "    </tr>\n",
       "    <tr>\n",
       "      <th>11</th>\n",
       "      <td>Doctor Strange</td>\n",
       "      <td>676354481</td>\n",
       "    </tr>\n",
       "    <tr>\n",
       "      <th>12</th>\n",
       "      <td>Captain America: The Winter Soldier</td>\n",
       "      <td>714401889</td>\n",
       "    </tr>\n",
       "    <tr>\n",
       "      <th>13</th>\n",
       "      <td>Guardians of the Galaxy</td>\n",
       "      <td>770882395</td>\n",
       "    </tr>\n",
       "    <tr>\n",
       "      <th>14</th>\n",
       "      <td>Thor: Ragnarok</td>\n",
       "      <td>850482778</td>\n",
       "    </tr>\n",
       "    <tr>\n",
       "      <th>15</th>\n",
       "      <td>Guardians of the Galaxy Vol. 2</td>\n",
       "      <td>869113101</td>\n",
       "    </tr>\n",
       "    <tr>\n",
       "      <th>16</th>\n",
       "      <td>Spider-Man: Homecoming</td>\n",
       "      <td>878346440</td>\n",
       "    </tr>\n",
       "    <tr>\n",
       "      <th>17</th>\n",
       "      <td>Captain Marvel</td>\n",
       "      <td>1129727388</td>\n",
       "    </tr>\n",
       "    <tr>\n",
       "      <th>18</th>\n",
       "      <td>Spider-Man: Far From Home</td>\n",
       "      <td>1132532832</td>\n",
       "    </tr>\n",
       "    <tr>\n",
       "      <th>19</th>\n",
       "      <td>Captain America: Civil War</td>\n",
       "      <td>1151918521</td>\n",
       "    </tr>\n",
       "    <tr>\n",
       "      <th>20</th>\n",
       "      <td>Iron Man 3</td>\n",
       "      <td>1215392272</td>\n",
       "    </tr>\n",
       "    <tr>\n",
       "      <th>21</th>\n",
       "      <td>Black Panther</td>\n",
       "      <td>1336494321</td>\n",
       "    </tr>\n",
       "    <tr>\n",
       "      <th>22</th>\n",
       "      <td>Avengers: Age of Ultron</td>\n",
       "      <td>1395316979</td>\n",
       "    </tr>\n",
       "    <tr>\n",
       "      <th>23</th>\n",
       "      <td>The Avengers</td>\n",
       "      <td>1515100211</td>\n",
       "    </tr>\n",
       "    <tr>\n",
       "      <th>24</th>\n",
       "      <td>Spider-Man: No Way Home</td>\n",
       "      <td>1891108035</td>\n",
       "    </tr>\n",
       "    <tr>\n",
       "      <th>25</th>\n",
       "      <td>Avengers: Infinity War</td>\n",
       "      <td>2048359754</td>\n",
       "    </tr>\n",
       "    <tr>\n",
       "      <th>26</th>\n",
       "      <td>Avengers: End Game</td>\n",
       "      <td>2797800564</td>\n",
       "    </tr>\n",
       "  </tbody>\n",
       "</table>\n",
       "</div>"
      ],
      "text/plain": [
       "                                        Filme  Bilheteria\n",
       "0                         The Incredible Hulk   265573859\n",
       "1          Captain America: The First Avenger   370569776\n",
       "2                                 Black Widow   379751655\n",
       "3                                    Eternals   402064929\n",
       "4   Shang-Chi and the Legend of the Ten Rings   432243292\n",
       "5                                        Thor   449326618\n",
       "6                                     Ant-Man   518858449\n",
       "7                                    Iron Man   585171547\n",
       "8                                  Iron Man 2   621156389\n",
       "9                        Ant-Man and the Wasp   623144660\n",
       "10                       Thor: The Dark World   644602516\n",
       "11                             Doctor Strange   676354481\n",
       "12        Captain America: The Winter Soldier   714401889\n",
       "13                    Guardians of the Galaxy   770882395\n",
       "14                             Thor: Ragnarok   850482778\n",
       "15             Guardians of the Galaxy Vol. 2   869113101\n",
       "16                     Spider-Man: Homecoming   878346440\n",
       "17                             Captain Marvel  1129727388\n",
       "18                  Spider-Man: Far From Home  1132532832\n",
       "19                 Captain America: Civil War  1151918521\n",
       "20                                 Iron Man 3  1215392272\n",
       "21                              Black Panther  1336494321\n",
       "22                    Avengers: Age of Ultron  1395316979\n",
       "23                               The Avengers  1515100211\n",
       "24                    Spider-Man: No Way Home  1891108035\n",
       "25                     Avengers: Infinity War  2048359754\n",
       "26                         Avengers: End Game  2797800564"
      ]
     },
     "execution_count": 24,
     "metadata": {},
     "output_type": "execute_result"
    }
   ],
   "source": [
    "data = pd.DataFrame(list_to_list, columns=['Filme','Bilheteria'])\n",
    "data['Bilheteria'] = pd.to_numeric(data['Bilheteria'], errors='coerce')\n",
    "data['Filme'] = data['Filme'].astype(str)\n",
    "\n",
    "data"
   ]
  },
  {
   "cell_type": "code",
   "execution_count": 25,
   "metadata": {},
   "outputs": [
    {
     "name": "stdout",
     "output_type": "stream",
     "text": [
      "<class 'pandas.core.frame.DataFrame'>\n",
      "RangeIndex: 27 entries, 0 to 26\n",
      "Data columns (total 2 columns):\n",
      " #   Column      Non-Null Count  Dtype \n",
      "---  ------      --------------  ----- \n",
      " 0   Filme       27 non-null     object\n",
      " 1   Bilheteria  27 non-null     int64 \n",
      "dtypes: int64(1), object(1)\n",
      "memory usage: 560.0+ bytes\n"
     ]
    }
   ],
   "source": [
    "data.info()"
   ]
  },
  {
   "cell_type": "code",
   "execution_count": 26,
   "metadata": {},
   "outputs": [
    {
     "data": {
      "application/vnd.plotly.v1+json": {
       "config": {
        "plotlyServerURL": "https://plot.ly"
       },
       "data": [
        {
         "alignmentgroup": "True",
         "hovertemplate": "Filme=%{x}<br>Bilheteria=%{y}<extra></extra>",
         "legendgroup": "",
         "marker": {
          "color": "rgb(127, 60, 141)",
          "pattern": {
           "shape": ""
          }
         },
         "name": "",
         "offsetgroup": "",
         "orientation": "v",
         "showlegend": false,
         "textposition": "auto",
         "type": "bar",
         "x": [
          "The Incredible Hulk",
          "Captain America: The First Avenger",
          "Black Widow",
          "Eternals",
          "Shang-Chi and the Legend of the Ten Rings",
          "Thor",
          "Ant-Man",
          "Iron Man",
          "Iron Man 2",
          "Ant-Man and the Wasp",
          "Thor: The Dark World",
          "Doctor Strange",
          "Captain America: The Winter Soldier",
          "Guardians of the Galaxy",
          "Thor: Ragnarok",
          "Guardians of the Galaxy Vol. 2",
          "Spider-Man: Homecoming",
          "Captain Marvel",
          "Spider-Man: Far From Home",
          "Captain America: Civil War",
          "Iron Man 3",
          "Black Panther",
          "Avengers: Age of Ultron",
          "The Avengers",
          "Spider-Man: No Way Home",
          "Avengers: Infinity War",
          "Avengers: End Game"
         ],
         "xaxis": "x",
         "y": [
          265573859,
          370569776,
          379751655,
          402064929,
          432243292,
          449326618,
          518858449,
          585171547,
          621156389,
          623144660,
          644602516,
          676354481,
          714401889,
          770882395,
          850482778,
          869113101,
          878346440,
          1129727388,
          1132532832,
          1151918521,
          1215392272,
          1336494321,
          1395316979,
          1515100211,
          1891108035,
          2048359754,
          2797800564
         ],
         "yaxis": "y"
        }
       ],
       "layout": {
        "barmode": "relative",
        "height": 1000,
        "legend": {
         "tracegroupgap": 0
        },
        "template": {
         "data": {
          "bar": [
           {
            "error_x": {
             "color": "#f2f5fa"
            },
            "error_y": {
             "color": "#f2f5fa"
            },
            "marker": {
             "line": {
              "color": "rgb(17,17,17)",
              "width": 0.5
             },
             "pattern": {
              "fillmode": "overlay",
              "size": 10,
              "solidity": 0.2
             }
            },
            "type": "bar"
           }
          ],
          "barpolar": [
           {
            "marker": {
             "line": {
              "color": "rgb(17,17,17)",
              "width": 0.5
             },
             "pattern": {
              "fillmode": "overlay",
              "size": 10,
              "solidity": 0.2
             }
            },
            "type": "barpolar"
           }
          ],
          "carpet": [
           {
            "aaxis": {
             "endlinecolor": "#A2B1C6",
             "gridcolor": "#506784",
             "linecolor": "#506784",
             "minorgridcolor": "#506784",
             "startlinecolor": "#A2B1C6"
            },
            "baxis": {
             "endlinecolor": "#A2B1C6",
             "gridcolor": "#506784",
             "linecolor": "#506784",
             "minorgridcolor": "#506784",
             "startlinecolor": "#A2B1C6"
            },
            "type": "carpet"
           }
          ],
          "choropleth": [
           {
            "colorbar": {
             "outlinewidth": 0,
             "ticks": ""
            },
            "type": "choropleth"
           }
          ],
          "contour": [
           {
            "colorbar": {
             "outlinewidth": 0,
             "ticks": ""
            },
            "colorscale": [
             [
              0,
              "#0d0887"
             ],
             [
              0.1111111111111111,
              "#46039f"
             ],
             [
              0.2222222222222222,
              "#7201a8"
             ],
             [
              0.3333333333333333,
              "#9c179e"
             ],
             [
              0.4444444444444444,
              "#bd3786"
             ],
             [
              0.5555555555555556,
              "#d8576b"
             ],
             [
              0.6666666666666666,
              "#ed7953"
             ],
             [
              0.7777777777777778,
              "#fb9f3a"
             ],
             [
              0.8888888888888888,
              "#fdca26"
             ],
             [
              1,
              "#f0f921"
             ]
            ],
            "type": "contour"
           }
          ],
          "contourcarpet": [
           {
            "colorbar": {
             "outlinewidth": 0,
             "ticks": ""
            },
            "type": "contourcarpet"
           }
          ],
          "heatmap": [
           {
            "colorbar": {
             "outlinewidth": 0,
             "ticks": ""
            },
            "colorscale": [
             [
              0,
              "#0d0887"
             ],
             [
              0.1111111111111111,
              "#46039f"
             ],
             [
              0.2222222222222222,
              "#7201a8"
             ],
             [
              0.3333333333333333,
              "#9c179e"
             ],
             [
              0.4444444444444444,
              "#bd3786"
             ],
             [
              0.5555555555555556,
              "#d8576b"
             ],
             [
              0.6666666666666666,
              "#ed7953"
             ],
             [
              0.7777777777777778,
              "#fb9f3a"
             ],
             [
              0.8888888888888888,
              "#fdca26"
             ],
             [
              1,
              "#f0f921"
             ]
            ],
            "type": "heatmap"
           }
          ],
          "heatmapgl": [
           {
            "colorbar": {
             "outlinewidth": 0,
             "ticks": ""
            },
            "colorscale": [
             [
              0,
              "#0d0887"
             ],
             [
              0.1111111111111111,
              "#46039f"
             ],
             [
              0.2222222222222222,
              "#7201a8"
             ],
             [
              0.3333333333333333,
              "#9c179e"
             ],
             [
              0.4444444444444444,
              "#bd3786"
             ],
             [
              0.5555555555555556,
              "#d8576b"
             ],
             [
              0.6666666666666666,
              "#ed7953"
             ],
             [
              0.7777777777777778,
              "#fb9f3a"
             ],
             [
              0.8888888888888888,
              "#fdca26"
             ],
             [
              1,
              "#f0f921"
             ]
            ],
            "type": "heatmapgl"
           }
          ],
          "histogram": [
           {
            "marker": {
             "pattern": {
              "fillmode": "overlay",
              "size": 10,
              "solidity": 0.2
             }
            },
            "type": "histogram"
           }
          ],
          "histogram2d": [
           {
            "colorbar": {
             "outlinewidth": 0,
             "ticks": ""
            },
            "colorscale": [
             [
              0,
              "#0d0887"
             ],
             [
              0.1111111111111111,
              "#46039f"
             ],
             [
              0.2222222222222222,
              "#7201a8"
             ],
             [
              0.3333333333333333,
              "#9c179e"
             ],
             [
              0.4444444444444444,
              "#bd3786"
             ],
             [
              0.5555555555555556,
              "#d8576b"
             ],
             [
              0.6666666666666666,
              "#ed7953"
             ],
             [
              0.7777777777777778,
              "#fb9f3a"
             ],
             [
              0.8888888888888888,
              "#fdca26"
             ],
             [
              1,
              "#f0f921"
             ]
            ],
            "type": "histogram2d"
           }
          ],
          "histogram2dcontour": [
           {
            "colorbar": {
             "outlinewidth": 0,
             "ticks": ""
            },
            "colorscale": [
             [
              0,
              "#0d0887"
             ],
             [
              0.1111111111111111,
              "#46039f"
             ],
             [
              0.2222222222222222,
              "#7201a8"
             ],
             [
              0.3333333333333333,
              "#9c179e"
             ],
             [
              0.4444444444444444,
              "#bd3786"
             ],
             [
              0.5555555555555556,
              "#d8576b"
             ],
             [
              0.6666666666666666,
              "#ed7953"
             ],
             [
              0.7777777777777778,
              "#fb9f3a"
             ],
             [
              0.8888888888888888,
              "#fdca26"
             ],
             [
              1,
              "#f0f921"
             ]
            ],
            "type": "histogram2dcontour"
           }
          ],
          "mesh3d": [
           {
            "colorbar": {
             "outlinewidth": 0,
             "ticks": ""
            },
            "type": "mesh3d"
           }
          ],
          "parcoords": [
           {
            "line": {
             "colorbar": {
              "outlinewidth": 0,
              "ticks": ""
             }
            },
            "type": "parcoords"
           }
          ],
          "pie": [
           {
            "automargin": true,
            "type": "pie"
           }
          ],
          "scatter": [
           {
            "marker": {
             "line": {
              "color": "#283442"
             }
            },
            "type": "scatter"
           }
          ],
          "scatter3d": [
           {
            "line": {
             "colorbar": {
              "outlinewidth": 0,
              "ticks": ""
             }
            },
            "marker": {
             "colorbar": {
              "outlinewidth": 0,
              "ticks": ""
             }
            },
            "type": "scatter3d"
           }
          ],
          "scattercarpet": [
           {
            "marker": {
             "colorbar": {
              "outlinewidth": 0,
              "ticks": ""
             }
            },
            "type": "scattercarpet"
           }
          ],
          "scattergeo": [
           {
            "marker": {
             "colorbar": {
              "outlinewidth": 0,
              "ticks": ""
             }
            },
            "type": "scattergeo"
           }
          ],
          "scattergl": [
           {
            "marker": {
             "line": {
              "color": "#283442"
             }
            },
            "type": "scattergl"
           }
          ],
          "scattermapbox": [
           {
            "marker": {
             "colorbar": {
              "outlinewidth": 0,
              "ticks": ""
             }
            },
            "type": "scattermapbox"
           }
          ],
          "scatterpolar": [
           {
            "marker": {
             "colorbar": {
              "outlinewidth": 0,
              "ticks": ""
             }
            },
            "type": "scatterpolar"
           }
          ],
          "scatterpolargl": [
           {
            "marker": {
             "colorbar": {
              "outlinewidth": 0,
              "ticks": ""
             }
            },
            "type": "scatterpolargl"
           }
          ],
          "scatterternary": [
           {
            "marker": {
             "colorbar": {
              "outlinewidth": 0,
              "ticks": ""
             }
            },
            "type": "scatterternary"
           }
          ],
          "surface": [
           {
            "colorbar": {
             "outlinewidth": 0,
             "ticks": ""
            },
            "colorscale": [
             [
              0,
              "#0d0887"
             ],
             [
              0.1111111111111111,
              "#46039f"
             ],
             [
              0.2222222222222222,
              "#7201a8"
             ],
             [
              0.3333333333333333,
              "#9c179e"
             ],
             [
              0.4444444444444444,
              "#bd3786"
             ],
             [
              0.5555555555555556,
              "#d8576b"
             ],
             [
              0.6666666666666666,
              "#ed7953"
             ],
             [
              0.7777777777777778,
              "#fb9f3a"
             ],
             [
              0.8888888888888888,
              "#fdca26"
             ],
             [
              1,
              "#f0f921"
             ]
            ],
            "type": "surface"
           }
          ],
          "table": [
           {
            "cells": {
             "fill": {
              "color": "#506784"
             },
             "line": {
              "color": "rgb(17,17,17)"
             }
            },
            "header": {
             "fill": {
              "color": "#2a3f5f"
             },
             "line": {
              "color": "rgb(17,17,17)"
             }
            },
            "type": "table"
           }
          ]
         },
         "layout": {
          "annotationdefaults": {
           "arrowcolor": "#f2f5fa",
           "arrowhead": 0,
           "arrowwidth": 1
          },
          "autotypenumbers": "strict",
          "coloraxis": {
           "colorbar": {
            "outlinewidth": 0,
            "ticks": ""
           }
          },
          "colorscale": {
           "diverging": [
            [
             0,
             "#8e0152"
            ],
            [
             0.1,
             "#c51b7d"
            ],
            [
             0.2,
             "#de77ae"
            ],
            [
             0.3,
             "#f1b6da"
            ],
            [
             0.4,
             "#fde0ef"
            ],
            [
             0.5,
             "#f7f7f7"
            ],
            [
             0.6,
             "#e6f5d0"
            ],
            [
             0.7,
             "#b8e186"
            ],
            [
             0.8,
             "#7fbc41"
            ],
            [
             0.9,
             "#4d9221"
            ],
            [
             1,
             "#276419"
            ]
           ],
           "sequential": [
            [
             0,
             "#0d0887"
            ],
            [
             0.1111111111111111,
             "#46039f"
            ],
            [
             0.2222222222222222,
             "#7201a8"
            ],
            [
             0.3333333333333333,
             "#9c179e"
            ],
            [
             0.4444444444444444,
             "#bd3786"
            ],
            [
             0.5555555555555556,
             "#d8576b"
            ],
            [
             0.6666666666666666,
             "#ed7953"
            ],
            [
             0.7777777777777778,
             "#fb9f3a"
            ],
            [
             0.8888888888888888,
             "#fdca26"
            ],
            [
             1,
             "#f0f921"
            ]
           ],
           "sequentialminus": [
            [
             0,
             "#0d0887"
            ],
            [
             0.1111111111111111,
             "#46039f"
            ],
            [
             0.2222222222222222,
             "#7201a8"
            ],
            [
             0.3333333333333333,
             "#9c179e"
            ],
            [
             0.4444444444444444,
             "#bd3786"
            ],
            [
             0.5555555555555556,
             "#d8576b"
            ],
            [
             0.6666666666666666,
             "#ed7953"
            ],
            [
             0.7777777777777778,
             "#fb9f3a"
            ],
            [
             0.8888888888888888,
             "#fdca26"
            ],
            [
             1,
             "#f0f921"
            ]
           ]
          },
          "colorway": [
           "#636efa",
           "#EF553B",
           "#00cc96",
           "#ab63fa",
           "#FFA15A",
           "#19d3f3",
           "#FF6692",
           "#B6E880",
           "#FF97FF",
           "#FECB52"
          ],
          "font": {
           "color": "#f2f5fa"
          },
          "geo": {
           "bgcolor": "rgb(17,17,17)",
           "lakecolor": "rgb(17,17,17)",
           "landcolor": "rgb(17,17,17)",
           "showlakes": true,
           "showland": true,
           "subunitcolor": "#506784"
          },
          "hoverlabel": {
           "align": "left"
          },
          "hovermode": "closest",
          "mapbox": {
           "style": "dark"
          },
          "paper_bgcolor": "rgb(17,17,17)",
          "plot_bgcolor": "rgb(17,17,17)",
          "polar": {
           "angularaxis": {
            "gridcolor": "#506784",
            "linecolor": "#506784",
            "ticks": ""
           },
           "bgcolor": "rgb(17,17,17)",
           "radialaxis": {
            "gridcolor": "#506784",
            "linecolor": "#506784",
            "ticks": ""
           }
          },
          "scene": {
           "xaxis": {
            "backgroundcolor": "rgb(17,17,17)",
            "gridcolor": "#506784",
            "gridwidth": 2,
            "linecolor": "#506784",
            "showbackground": true,
            "ticks": "",
            "zerolinecolor": "#C8D4E3"
           },
           "yaxis": {
            "backgroundcolor": "rgb(17,17,17)",
            "gridcolor": "#506784",
            "gridwidth": 2,
            "linecolor": "#506784",
            "showbackground": true,
            "ticks": "",
            "zerolinecolor": "#C8D4E3"
           },
           "zaxis": {
            "backgroundcolor": "rgb(17,17,17)",
            "gridcolor": "#506784",
            "gridwidth": 2,
            "linecolor": "#506784",
            "showbackground": true,
            "ticks": "",
            "zerolinecolor": "#C8D4E3"
           }
          },
          "shapedefaults": {
           "line": {
            "color": "#f2f5fa"
           }
          },
          "sliderdefaults": {
           "bgcolor": "#C8D4E3",
           "bordercolor": "rgb(17,17,17)",
           "borderwidth": 1,
           "tickwidth": 0
          },
          "ternary": {
           "aaxis": {
            "gridcolor": "#506784",
            "linecolor": "#506784",
            "ticks": ""
           },
           "baxis": {
            "gridcolor": "#506784",
            "linecolor": "#506784",
            "ticks": ""
           },
           "bgcolor": "rgb(17,17,17)",
           "caxis": {
            "gridcolor": "#506784",
            "linecolor": "#506784",
            "ticks": ""
           }
          },
          "title": {
           "x": 0.05
          },
          "updatemenudefaults": {
           "bgcolor": "#506784",
           "borderwidth": 0
          },
          "xaxis": {
           "automargin": true,
           "gridcolor": "#283442",
           "linecolor": "#506784",
           "ticks": "",
           "title": {
            "standoff": 15
           },
           "zerolinecolor": "#283442",
           "zerolinewidth": 2
          },
          "yaxis": {
           "automargin": true,
           "gridcolor": "#283442",
           "linecolor": "#506784",
           "ticks": "",
           "title": {
            "standoff": 15
           },
           "zerolinecolor": "#283442",
           "zerolinewidth": 2
          }
         }
        },
        "title": {
         "text": "GÊNEROS MAIS BEM AVALIADOS NO MUNDO (>95%)"
        },
        "width": 1500,
        "xaxis": {
         "anchor": "y",
         "domain": [
          0,
          1
         ],
         "title": {
          "text": "Filme"
         }
        },
        "yaxis": {
         "anchor": "x",
         "domain": [
          0,
          1
         ],
         "title": {
          "text": "Bilheteria"
         }
        }
       }
      }
     },
     "metadata": {},
     "output_type": "display_data"
    }
   ],
   "source": [
    "grafico = px.bar(data, x='Filme', y='Bilheteria', width=1500, height=1000,\n",
    "                 title='GÊNEROS MAIS BEM AVALIADOS NO MUNDO (>95%)',\n",
    "                 color_discrete_sequence=px.colors.qualitative.Bold,\n",
    "                 template='plotly_dark')\n",
    "\n",
    "grafico.show()"
   ]
  },
  {
   "cell_type": "code",
   "execution_count": 28,
   "metadata": {},
   "outputs": [
    {
     "data": {
      "application/vnd.plotly.v1+json": {
       "config": {
        "plotlyServerURL": "https://plot.ly"
       },
       "data": [
        {
         "alignmentgroup": "True",
         "hovertemplate": "Bilheteria(dólar)=%{x}<br>Filme=%{y}<extra></extra>",
         "legendgroup": "",
         "marker": {
          "color": "rgb(229, 134, 6)",
          "pattern": {
           "shape": ""
          }
         },
         "name": "",
         "offsetgroup": "",
         "orientation": "h",
         "showlegend": false,
         "textposition": "auto",
         "type": "bar",
         "x": [
          265573859,
          370569776,
          379751655,
          402064929,
          432243292,
          449326618,
          518858449,
          585171547,
          621156389,
          623144660,
          644602516,
          676354481,
          714401889,
          770882395,
          850482778,
          869113101,
          878346440,
          1129727388,
          1132532832,
          1151918521,
          1215392272,
          1336494321,
          1395316979,
          1515100211,
          1891108035,
          2048359754,
          2797800564
         ],
         "xaxis": "x",
         "y": [
          "The Incredible Hulk",
          "Captain America: The First Avenger",
          "Black Widow",
          "Eternals",
          "Shang-Chi and the Legend of the Ten Rings",
          "Thor",
          "Ant-Man",
          "Iron Man",
          "Iron Man 2",
          "Ant-Man and the Wasp",
          "Thor: The Dark World",
          "Doctor Strange",
          "Captain America: The Winter Soldier",
          "Guardians of the Galaxy",
          "Thor: Ragnarok",
          "Guardians of the Galaxy Vol. 2",
          "Spider-Man: Homecoming",
          "Captain Marvel",
          "Spider-Man: Far From Home",
          "Captain America: Civil War",
          "Iron Man 3",
          "Black Panther",
          "Avengers: Age of Ultron",
          "The Avengers",
          "Spider-Man: No Way Home",
          "Avengers: Infinity War",
          "Avengers: End Game"
         ],
         "yaxis": "y"
        }
       ],
       "layout": {
        "barmode": "relative",
        "height": 1000,
        "legend": {
         "tracegroupgap": 0
        },
        "template": {
         "data": {
          "bar": [
           {
            "error_x": {
             "color": "#2a3f5f"
            },
            "error_y": {
             "color": "#2a3f5f"
            },
            "marker": {
             "line": {
              "color": "#E5ECF6",
              "width": 0.5
             },
             "pattern": {
              "fillmode": "overlay",
              "size": 10,
              "solidity": 0.2
             }
            },
            "type": "bar"
           }
          ],
          "barpolar": [
           {
            "marker": {
             "line": {
              "color": "#E5ECF6",
              "width": 0.5
             },
             "pattern": {
              "fillmode": "overlay",
              "size": 10,
              "solidity": 0.2
             }
            },
            "type": "barpolar"
           }
          ],
          "carpet": [
           {
            "aaxis": {
             "endlinecolor": "#2a3f5f",
             "gridcolor": "white",
             "linecolor": "white",
             "minorgridcolor": "white",
             "startlinecolor": "#2a3f5f"
            },
            "baxis": {
             "endlinecolor": "#2a3f5f",
             "gridcolor": "white",
             "linecolor": "white",
             "minorgridcolor": "white",
             "startlinecolor": "#2a3f5f"
            },
            "type": "carpet"
           }
          ],
          "choropleth": [
           {
            "colorbar": {
             "outlinewidth": 0,
             "ticks": ""
            },
            "type": "choropleth"
           }
          ],
          "contour": [
           {
            "colorbar": {
             "outlinewidth": 0,
             "ticks": ""
            },
            "colorscale": [
             [
              0,
              "#0d0887"
             ],
             [
              0.1111111111111111,
              "#46039f"
             ],
             [
              0.2222222222222222,
              "#7201a8"
             ],
             [
              0.3333333333333333,
              "#9c179e"
             ],
             [
              0.4444444444444444,
              "#bd3786"
             ],
             [
              0.5555555555555556,
              "#d8576b"
             ],
             [
              0.6666666666666666,
              "#ed7953"
             ],
             [
              0.7777777777777778,
              "#fb9f3a"
             ],
             [
              0.8888888888888888,
              "#fdca26"
             ],
             [
              1,
              "#f0f921"
             ]
            ],
            "type": "contour"
           }
          ],
          "contourcarpet": [
           {
            "colorbar": {
             "outlinewidth": 0,
             "ticks": ""
            },
            "type": "contourcarpet"
           }
          ],
          "heatmap": [
           {
            "colorbar": {
             "outlinewidth": 0,
             "ticks": ""
            },
            "colorscale": [
             [
              0,
              "#0d0887"
             ],
             [
              0.1111111111111111,
              "#46039f"
             ],
             [
              0.2222222222222222,
              "#7201a8"
             ],
             [
              0.3333333333333333,
              "#9c179e"
             ],
             [
              0.4444444444444444,
              "#bd3786"
             ],
             [
              0.5555555555555556,
              "#d8576b"
             ],
             [
              0.6666666666666666,
              "#ed7953"
             ],
             [
              0.7777777777777778,
              "#fb9f3a"
             ],
             [
              0.8888888888888888,
              "#fdca26"
             ],
             [
              1,
              "#f0f921"
             ]
            ],
            "type": "heatmap"
           }
          ],
          "heatmapgl": [
           {
            "colorbar": {
             "outlinewidth": 0,
             "ticks": ""
            },
            "colorscale": [
             [
              0,
              "#0d0887"
             ],
             [
              0.1111111111111111,
              "#46039f"
             ],
             [
              0.2222222222222222,
              "#7201a8"
             ],
             [
              0.3333333333333333,
              "#9c179e"
             ],
             [
              0.4444444444444444,
              "#bd3786"
             ],
             [
              0.5555555555555556,
              "#d8576b"
             ],
             [
              0.6666666666666666,
              "#ed7953"
             ],
             [
              0.7777777777777778,
              "#fb9f3a"
             ],
             [
              0.8888888888888888,
              "#fdca26"
             ],
             [
              1,
              "#f0f921"
             ]
            ],
            "type": "heatmapgl"
           }
          ],
          "histogram": [
           {
            "marker": {
             "pattern": {
              "fillmode": "overlay",
              "size": 10,
              "solidity": 0.2
             }
            },
            "type": "histogram"
           }
          ],
          "histogram2d": [
           {
            "colorbar": {
             "outlinewidth": 0,
             "ticks": ""
            },
            "colorscale": [
             [
              0,
              "#0d0887"
             ],
             [
              0.1111111111111111,
              "#46039f"
             ],
             [
              0.2222222222222222,
              "#7201a8"
             ],
             [
              0.3333333333333333,
              "#9c179e"
             ],
             [
              0.4444444444444444,
              "#bd3786"
             ],
             [
              0.5555555555555556,
              "#d8576b"
             ],
             [
              0.6666666666666666,
              "#ed7953"
             ],
             [
              0.7777777777777778,
              "#fb9f3a"
             ],
             [
              0.8888888888888888,
              "#fdca26"
             ],
             [
              1,
              "#f0f921"
             ]
            ],
            "type": "histogram2d"
           }
          ],
          "histogram2dcontour": [
           {
            "colorbar": {
             "outlinewidth": 0,
             "ticks": ""
            },
            "colorscale": [
             [
              0,
              "#0d0887"
             ],
             [
              0.1111111111111111,
              "#46039f"
             ],
             [
              0.2222222222222222,
              "#7201a8"
             ],
             [
              0.3333333333333333,
              "#9c179e"
             ],
             [
              0.4444444444444444,
              "#bd3786"
             ],
             [
              0.5555555555555556,
              "#d8576b"
             ],
             [
              0.6666666666666666,
              "#ed7953"
             ],
             [
              0.7777777777777778,
              "#fb9f3a"
             ],
             [
              0.8888888888888888,
              "#fdca26"
             ],
             [
              1,
              "#f0f921"
             ]
            ],
            "type": "histogram2dcontour"
           }
          ],
          "mesh3d": [
           {
            "colorbar": {
             "outlinewidth": 0,
             "ticks": ""
            },
            "type": "mesh3d"
           }
          ],
          "parcoords": [
           {
            "line": {
             "colorbar": {
              "outlinewidth": 0,
              "ticks": ""
             }
            },
            "type": "parcoords"
           }
          ],
          "pie": [
           {
            "automargin": true,
            "type": "pie"
           }
          ],
          "scatter": [
           {
            "fillpattern": {
             "fillmode": "overlay",
             "size": 10,
             "solidity": 0.2
            },
            "type": "scatter"
           }
          ],
          "scatter3d": [
           {
            "line": {
             "colorbar": {
              "outlinewidth": 0,
              "ticks": ""
             }
            },
            "marker": {
             "colorbar": {
              "outlinewidth": 0,
              "ticks": ""
             }
            },
            "type": "scatter3d"
           }
          ],
          "scattercarpet": [
           {
            "marker": {
             "colorbar": {
              "outlinewidth": 0,
              "ticks": ""
             }
            },
            "type": "scattercarpet"
           }
          ],
          "scattergeo": [
           {
            "marker": {
             "colorbar": {
              "outlinewidth": 0,
              "ticks": ""
             }
            },
            "type": "scattergeo"
           }
          ],
          "scattergl": [
           {
            "marker": {
             "colorbar": {
              "outlinewidth": 0,
              "ticks": ""
             }
            },
            "type": "scattergl"
           }
          ],
          "scattermapbox": [
           {
            "marker": {
             "colorbar": {
              "outlinewidth": 0,
              "ticks": ""
             }
            },
            "type": "scattermapbox"
           }
          ],
          "scatterpolar": [
           {
            "marker": {
             "colorbar": {
              "outlinewidth": 0,
              "ticks": ""
             }
            },
            "type": "scatterpolar"
           }
          ],
          "scatterpolargl": [
           {
            "marker": {
             "colorbar": {
              "outlinewidth": 0,
              "ticks": ""
             }
            },
            "type": "scatterpolargl"
           }
          ],
          "scatterternary": [
           {
            "marker": {
             "colorbar": {
              "outlinewidth": 0,
              "ticks": ""
             }
            },
            "type": "scatterternary"
           }
          ],
          "surface": [
           {
            "colorbar": {
             "outlinewidth": 0,
             "ticks": ""
            },
            "colorscale": [
             [
              0,
              "#0d0887"
             ],
             [
              0.1111111111111111,
              "#46039f"
             ],
             [
              0.2222222222222222,
              "#7201a8"
             ],
             [
              0.3333333333333333,
              "#9c179e"
             ],
             [
              0.4444444444444444,
              "#bd3786"
             ],
             [
              0.5555555555555556,
              "#d8576b"
             ],
             [
              0.6666666666666666,
              "#ed7953"
             ],
             [
              0.7777777777777778,
              "#fb9f3a"
             ],
             [
              0.8888888888888888,
              "#fdca26"
             ],
             [
              1,
              "#f0f921"
             ]
            ],
            "type": "surface"
           }
          ],
          "table": [
           {
            "cells": {
             "fill": {
              "color": "#EBF0F8"
             },
             "line": {
              "color": "white"
             }
            },
            "header": {
             "fill": {
              "color": "#C8D4E3"
             },
             "line": {
              "color": "white"
             }
            },
            "type": "table"
           }
          ]
         },
         "layout": {
          "annotationdefaults": {
           "arrowcolor": "#2a3f5f",
           "arrowhead": 0,
           "arrowwidth": 1
          },
          "autotypenumbers": "strict",
          "coloraxis": {
           "colorbar": {
            "outlinewidth": 0,
            "ticks": ""
           }
          },
          "colorscale": {
           "diverging": [
            [
             0,
             "#8e0152"
            ],
            [
             0.1,
             "#c51b7d"
            ],
            [
             0.2,
             "#de77ae"
            ],
            [
             0.3,
             "#f1b6da"
            ],
            [
             0.4,
             "#fde0ef"
            ],
            [
             0.5,
             "#f7f7f7"
            ],
            [
             0.6,
             "#e6f5d0"
            ],
            [
             0.7,
             "#b8e186"
            ],
            [
             0.8,
             "#7fbc41"
            ],
            [
             0.9,
             "#4d9221"
            ],
            [
             1,
             "#276419"
            ]
           ],
           "sequential": [
            [
             0,
             "#0d0887"
            ],
            [
             0.1111111111111111,
             "#46039f"
            ],
            [
             0.2222222222222222,
             "#7201a8"
            ],
            [
             0.3333333333333333,
             "#9c179e"
            ],
            [
             0.4444444444444444,
             "#bd3786"
            ],
            [
             0.5555555555555556,
             "#d8576b"
            ],
            [
             0.6666666666666666,
             "#ed7953"
            ],
            [
             0.7777777777777778,
             "#fb9f3a"
            ],
            [
             0.8888888888888888,
             "#fdca26"
            ],
            [
             1,
             "#f0f921"
            ]
           ],
           "sequentialminus": [
            [
             0,
             "#0d0887"
            ],
            [
             0.1111111111111111,
             "#46039f"
            ],
            [
             0.2222222222222222,
             "#7201a8"
            ],
            [
             0.3333333333333333,
             "#9c179e"
            ],
            [
             0.4444444444444444,
             "#bd3786"
            ],
            [
             0.5555555555555556,
             "#d8576b"
            ],
            [
             0.6666666666666666,
             "#ed7953"
            ],
            [
             0.7777777777777778,
             "#fb9f3a"
            ],
            [
             0.8888888888888888,
             "#fdca26"
            ],
            [
             1,
             "#f0f921"
            ]
           ]
          },
          "colorway": [
           "#636efa",
           "#EF553B",
           "#00cc96",
           "#ab63fa",
           "#FFA15A",
           "#19d3f3",
           "#FF6692",
           "#B6E880",
           "#FF97FF",
           "#FECB52"
          ],
          "font": {
           "color": "#2a3f5f"
          },
          "geo": {
           "bgcolor": "white",
           "lakecolor": "white",
           "landcolor": "#E5ECF6",
           "showlakes": true,
           "showland": true,
           "subunitcolor": "white"
          },
          "hoverlabel": {
           "align": "left"
          },
          "hovermode": "closest",
          "mapbox": {
           "style": "light"
          },
          "paper_bgcolor": "white",
          "plot_bgcolor": "#E5ECF6",
          "polar": {
           "angularaxis": {
            "gridcolor": "white",
            "linecolor": "white",
            "ticks": ""
           },
           "bgcolor": "#E5ECF6",
           "radialaxis": {
            "gridcolor": "white",
            "linecolor": "white",
            "ticks": ""
           }
          },
          "scene": {
           "xaxis": {
            "backgroundcolor": "#E5ECF6",
            "gridcolor": "white",
            "gridwidth": 2,
            "linecolor": "white",
            "showbackground": true,
            "ticks": "",
            "zerolinecolor": "white"
           },
           "yaxis": {
            "backgroundcolor": "#E5ECF6",
            "gridcolor": "white",
            "gridwidth": 2,
            "linecolor": "white",
            "showbackground": true,
            "ticks": "",
            "zerolinecolor": "white"
           },
           "zaxis": {
            "backgroundcolor": "#E5ECF6",
            "gridcolor": "white",
            "gridwidth": 2,
            "linecolor": "white",
            "showbackground": true,
            "ticks": "",
            "zerolinecolor": "white"
           }
          },
          "shapedefaults": {
           "line": {
            "color": "#2a3f5f"
           }
          },
          "ternary": {
           "aaxis": {
            "gridcolor": "white",
            "linecolor": "white",
            "ticks": ""
           },
           "baxis": {
            "gridcolor": "white",
            "linecolor": "white",
            "ticks": ""
           },
           "bgcolor": "#E5ECF6",
           "caxis": {
            "gridcolor": "white",
            "linecolor": "white",
            "ticks": ""
           }
          },
          "title": {
           "x": 0.05
          },
          "xaxis": {
           "automargin": true,
           "gridcolor": "white",
           "linecolor": "white",
           "ticks": "",
           "title": {
            "standoff": 15
           },
           "zerolinecolor": "white",
           "zerolinewidth": 2
          },
          "yaxis": {
           "automargin": true,
           "gridcolor": "white",
           "linecolor": "white",
           "ticks": "",
           "title": {
            "standoff": 15
           },
           "zerolinecolor": "white",
           "zerolinewidth": 2
          }
         }
        },
        "title": {
         "text": "Maiores Bilheterias da Marvel"
        },
        "width": 1500,
        "xaxis": {
         "anchor": "y",
         "domain": [
          0,
          1
         ],
         "title": {
          "text": "Bilheteria(dólar)"
         }
        },
        "yaxis": {
         "anchor": "x",
         "domain": [
          0,
          1
         ],
         "title": {
          "text": "Filme"
         }
        }
       }
      }
     },
     "metadata": {},
     "output_type": "display_data"
    }
   ],
   "source": [
    "px.bar(labels={'x':'Bilheteria(dólar)', 'y': 'Filme'}, x=ticket_ord, y=movies_ord, width=1500, height=1000\n",
    "       , title='Maiores Bilheterias da Marvel',color_discrete_sequence=px.colors.qualitative.Vivid)\n"
   ]
  }
 ],
 "metadata": {
  "kernelspec": {
   "display_name": "Python 3",
   "language": "python",
   "name": "python3"
  },
  "language_info": {
   "codemirror_mode": {
    "name": "ipython",
    "version": 3
   },
   "file_extension": ".py",
   "mimetype": "text/x-python",
   "name": "python",
   "nbconvert_exporter": "python",
   "pygments_lexer": "ipython3",
   "version": "3.10.12"
  }
 },
 "nbformat": 4,
 "nbformat_minor": 2
}
